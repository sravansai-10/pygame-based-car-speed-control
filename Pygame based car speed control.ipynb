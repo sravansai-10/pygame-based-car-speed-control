{
 "cells": [
  {
   "cell_type": "code",
   "execution_count": 8,
   "id": "4046e16c",
   "metadata": {},
   "outputs": [],
   "source": [
    "import pygame\n",
    "\n",
    "# Initialize Pygame\n",
    "pygame.init()\n",
    "\n",
    "# Set up display\n",
    "WIDTH, HEIGHT = 800, 600\n",
    "screen = pygame.display.set_mode((WIDTH, HEIGHT))\n",
    "pygame.display.set_caption(\"Car Speed Control\")\n",
    "\n",
    "# Load car image and resize it\n",
    "car_img = pygame.image.load(r\"C:\\Users\\SRAVAN SAI M\\Downloads\\car.png\")\n",
    "car_img = pygame.transform.scale(car_img, (100, 50))  # Resize the image\n",
    "\n",
    "# Car settings\n",
    "car_x, car_y = 150, HEIGHT // 2\n",
    "car_speed = 50  # Initial speed\n",
    "max_speed = 200\n",
    "\n",
    "# Main game loop\n",
    "running = True\n",
    "while running:\n",
    "    for event in pygame.event.get():\n",
    "        if event.type == pygame.QUIT:\n",
    "            running = False\n",
    "    \n",
    "    # Fill screen with white background\n",
    "    screen.fill((255, 255, 255))\n",
    "\n",
    "    # Draw the car\n",
    "    screen.blit(car_img, (car_x, car_y))\n",
    "\n",
    "    # Display speed text\n",
    "    font = pygame.font.SysFont(\"Arial\", 24)\n",
    "    speed_text = font.render(f\"Speed: {car_speed} km/h\", True, (0, 0, 0))\n",
    "    screen.blit(speed_text, (10, 10))\n",
    "\n",
    "    # Update the display\n",
    "    pygame.display.update()\n",
    "\n",
    "# Quit Pygame\n",
    "pygame.quit()\n"
   ]
  },
  {
   "cell_type": "code",
   "execution_count": null,
   "id": "62da538d",
   "metadata": {},
   "outputs": [],
   "source": []
  },
  {
   "cell_type": "code",
   "execution_count": null,
   "id": "4c79f49d",
   "metadata": {},
   "outputs": [],
   "source": []
  },
  {
   "cell_type": "code",
   "execution_count": null,
   "id": "9cfb4522",
   "metadata": {},
   "outputs": [],
   "source": []
  }
 ],
 "metadata": {
  "kernelspec": {
   "display_name": "Python 3 (ipykernel)",
   "language": "python",
   "name": "python3"
  },
  "language_info": {
   "codemirror_mode": {
    "name": "ipython",
    "version": 3
   },
   "file_extension": ".py",
   "mimetype": "text/x-python",
   "name": "python",
   "nbconvert_exporter": "python",
   "pygments_lexer": "ipython3",
   "version": "3.10.9"
  }
 },
 "nbformat": 4,
 "nbformat_minor": 5
}
